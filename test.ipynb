{
 "cells": [
  {
   "cell_type": "code",
   "execution_count": 2,
   "id": "f735ef44",
   "metadata": {},
   "outputs": [
    {
     "name": "stdout",
     "output_type": "stream",
     "text": [
      "hello World\n"
     ]
    }
   ],
   "source": [
    "print(\"hello World\");"
   ]
  },
  {
   "cell_type": "code",
   "execution_count": 2,
   "id": "7d4b5d6d",
   "metadata": {},
   "outputs": [
    {
     "name": "stdout",
     "output_type": "stream",
     "text": [
      "Hello World!\n"
     ]
    }
   ],
   "source": [
    "print(\"Hello World!\")"
   ]
  },
  {
   "cell_type": "code",
   "execution_count": 4,
   "id": "5e80e471",
   "metadata": {},
   "outputs": [],
   "source": [
    "def read_large_file(file_path):\n",
    "    with open(file_path, 'r') as file:\n",
    "        for line in file:\n",
    "            yield line\n",
    "            yield \"test---\""
   ]
  },
  {
   "cell_type": "code",
   "execution_count": null,
   "id": "b773fd55",
   "metadata": {},
   "outputs": [
    {
     "name": "stdout",
     "output_type": "stream",
     "text": [
      "The quick brown fox jumps over the lazy dog.\n",
      "\n",
      "test---\n",
      "1234567890!@#$%^&*() Test symbols and numbers.\n",
      "\n",
      "test---\n",
      "Lorem ipsum dolor sit amet, consectetur adipiscing elit.\n",
      "\n",
      "test---\n",
      "This is line number four, just a random sentence.\n",
      "\n",
      "test---\n",
      "C++ > Java? Or maybe Python is the real winner.\n",
      "\n",
      "test---\n",
      "Moonlynx Technologies is building smart apps for the future.\n",
      "\n",
      "test---\n",
      "End of file test line. Nothing more to see here.\n",
      "\n",
      "test---\n"
     ]
    }
   ],
   "source": [
    "for line in read_large_file('large_file.txt'):\n",
    "    print(line)\n"
   ]
  },
  {
   "cell_type": "code",
   "execution_count": 11,
   "id": "fbb3fba1",
   "metadata": {},
   "outputs": [
    {
     "data": {
      "text/plain": [
       "<generator object read_large_file at 0x000001AADA1627A0>"
      ]
     },
     "execution_count": 11,
     "metadata": {},
     "output_type": "execute_result"
    }
   ],
   "source": [
    "gen = read_large_file('large_file.txt')\n",
    "gen"
   ]
  },
  {
   "cell_type": "code",
   "execution_count": 29,
   "id": "04dbfea9",
   "metadata": {},
   "outputs": [
    {
     "ename": "StopIteration",
     "evalue": "",
     "output_type": "error",
     "traceback": [
      "\u001b[31m---------------------------------------------------------------------------\u001b[39m",
      "\u001b[31mStopIteration\u001b[39m                             Traceback (most recent call last)",
      "\u001b[36mCell\u001b[39m\u001b[36m \u001b[39m\u001b[32mIn[29]\u001b[39m\u001b[32m, line 1\u001b[39m\n\u001b[32m----> \u001b[39m\u001b[32m1\u001b[39m \u001b[38;5;28;43mnext\u001b[39;49m\u001b[43m(\u001b[49m\u001b[43mgen\u001b[49m\u001b[43m)\u001b[49m\n",
      "\u001b[31mStopIteration\u001b[39m: "
     ]
    }
   ],
   "source": [
    "next(gen)"
   ]
  },
  {
   "cell_type": "code",
   "execution_count": 2,
   "id": "f467d910",
   "metadata": {},
   "outputs": [
    {
     "name": "stdout",
     "output_type": "stream",
     "text": [
      "Length: 1, Size: 88 bytes\n",
      "Length: 5, Size: 120 bytes\n",
      "Length: 9, Size: 184 bytes\n",
      "Length: 17, Size: 248 bytes\n",
      "Length: 25, Size: 312 bytes\n",
      "Length: 33, Size: 376 bytes\n",
      "Length: 41, Size: 472 bytes\n",
      "Length: 53, Size: 568 bytes\n",
      "Length: 65, Size: 664 bytes\n",
      "Length: 77, Size: 792 bytes\n",
      "Length: 93, Size: 920 bytes\n"
     ]
    }
   ],
   "source": [
    "import sys\n",
    "def analyze_list_growth():\n",
    "    lst = []\n",
    "    prev_size = 0\n",
    "    \n",
    "    for i in range(100):\n",
    "        lst.append(i)\n",
    "        current_size = sys.getsizeof(lst)\n",
    "        if current_size != prev_size:\n",
    "            print(f\"Length: {len(lst)}, Size: {current_size} bytes\")\n",
    "            prev_size = current_size\n",
    "\n",
    "analyze_list_growth()"
   ]
  }
 ],
 "metadata": {
  "kernelspec": {
   "display_name": "Python 3",
   "language": "python",
   "name": "python3"
  },
  "language_info": {
   "codemirror_mode": {
    "name": "ipython",
    "version": 3
   },
   "file_extension": ".py",
   "mimetype": "text/x-python",
   "name": "python",
   "nbconvert_exporter": "python",
   "pygments_lexer": "ipython3",
   "version": "3.10.15"
  }
 },
 "nbformat": 4,
 "nbformat_minor": 5
}
