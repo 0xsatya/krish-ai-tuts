{
 "cells": [
  {
   "cell_type": "markdown",
   "id": "7fea42a9",
   "metadata": {},
   "source": [
    "### Assignment 1: Custom Iterator\n",
    "\n",
    "Create a custom iterator class named `Countdown` that takes a number and counts down to zero. Implement the `__iter__` and `__next__` methods. Test the iterator by using it in a for loop."
   ]
  },
  {
   "cell_type": "code",
   "execution_count": 4,
   "id": "88bbb517",
   "metadata": {},
   "outputs": [],
   "source": [
    "class Countdown:\n",
    "    def __init__(self, start: int):\n",
    "        if not isinstance(start, int):\n",
    "            raise TypeError(\"start must be an integer\")\n",
    "        if start < 0:\n",
    "            raise ValueError(\"start must be non-negative\")\n",
    "        self.current = start\n",
    "\n",
    "    def __iter__(self):\n",
    "        return self\n",
    "\n",
    "    def __next__(self):\n",
    "        if self.current < 0:\n",
    "            raise StopIteration\n",
    "        value = self.current\n",
    "        self.current -= 1\n",
    "        return value\n",
    "\n",
    "\n"
   ]
  },
  {
   "cell_type": "code",
   "execution_count": null,
   "id": "7c4766ed",
   "metadata": {},
   "outputs": [
    {
     "name": "stdout",
     "output_type": "stream",
     "text": [
      "5\n",
      "4\n",
      "3\n",
      "2\n",
      "1\n",
      "0\n"
     ]
    },
    {
     "ename": "",
     "evalue": "",
     "output_type": "error",
     "traceback": [
      "\u001b[1;31mnotebook controller is DISPOSED. \n",
      "\u001b[1;31mView Jupyter <a href='command:jupyter.viewOutput'>log</a> for further details."
     ]
    }
   ],
   "source": [
    "# Example usage\n",
    "for num in Countdown(5):\n",
    "    print(num)"
   ]
  },
  {
   "cell_type": "markdown",
   "id": "ccac5dbe",
   "metadata": {},
   "source": [
    "### Assignment 2: Custom Iterable Class\n",
    "\n",
    "Create a class named `MyRange` that mimics the behavior of the built-in `range` function. Implement the `__iter__` and `__next__` methods. Test the class by using it in a for loop."
   ]
  },
  {
   "cell_type": "markdown",
   "id": "425ba46d",
   "metadata": {},
   "source": [
    "### Assignment: Fibonacci Series\n",
    "\n",
    "Write a program to print the Fibonacci series using a generator.\n"
   ]
  },
  {
   "cell_type": "code",
   "execution_count": 5,
   "id": "c331409f",
   "metadata": {},
   "outputs": [
    {
     "name": "stdout",
     "output_type": "stream",
     "text": [
      "[0, 1, 1, 2, 3, 5, 8, 13, 21, 34]\n"
     ]
    }
   ],
   "source": [
    "def fibonacci(n: int):\n",
    "    \"\"\"Yield the first n Fibonacci numbers (starting from 0, 1).\n",
    "\n",
    "    Args:\n",
    "        n (int): Number of terms to generate. Must be non-negative.\n",
    "    \"\"\"\n",
    "    if not isinstance(n, int):\n",
    "        raise TypeError(\"n must be an integer\")\n",
    "    if n < 0:\n",
    "        raise ValueError(\"n must be non-negative\")\n",
    "    a, b = 0, 1\n",
    "    for _ in range(n):\n",
    "        yield a\n",
    "        a, b = b, a + b\n",
    "\n",
    "# Example usage: print first 10 Fibonacci numbers\n",
    "print(list(fibonacci(10)))\n"
   ]
  },
  {
   "cell_type": "code",
   "execution_count": null,
   "id": "5516aa96",
   "metadata": {},
   "outputs": [],
   "source": [
    "def repeat(n):\n",
    "    \"\"\"Decorator that repeats the execution of a function n times.\n",
    "    \n",
    "    Args:\n",
    "        n (int): Number of times to repeat the function execution.\n",
    "    \"\"\"\n",
    "    def decorator(func):\n",
    "        def wrapper(*args, **kwargs):\n",
    "            for i in range(n):\n",
    "                print(f\"Execution {i + 1}:\")\n",
    "                result = func(*args, **kwargs)\n",
    "            return result\n",
    "        return wrapper\n",
    "    return decorator\n",
    "\n",
    "# Apply the decorator to a function that prints a message\n",
    "@repeat(3)\n",
    "def greet(name):\n",
    "    print(f\"Hello, {name}!\")\n",
    "    return f\"Greeted {name}\"\n",
    "\n",
    "# Test the decorator\n",
    "result = greet(\"Alice\")\n",
    "print(f\"Final result: {result}\")\n"
   ]
  },
  {
   "cell_type": "code",
   "execution_count": 7,
   "id": "259585fd",
   "metadata": {},
   "outputs": [
    {
     "name": "stdout",
     "output_type": "stream",
     "text": [
      "0\n",
      "1\n",
      "1\n",
      "2\n",
      "3\n",
      "5\n",
      "8\n",
      "13\n",
      "21\n",
      "34\n"
     ]
    }
   ],
   "source": [
    "for n in fibonacci(10):\n",
    "    print(n)"
   ]
  },
  {
   "cell_type": "code",
   "execution_count": 10,
   "id": "d69783a7",
   "metadata": {},
   "outputs": [
    {
     "name": "stdout",
     "output_type": "stream",
     "text": [
      "0\n",
      "4\n",
      "16\n",
      "36\n",
      "64\n",
      "100\n"
     ]
    }
   ],
   "source": [
    "import numbers\n",
    "\n",
    "\n",
    "def evenumbers(n):\n",
    "    for i in range(n+1):\n",
    "        if i%2 == 0:\n",
    "            yield i\n",
    "\n",
    "def squares(numbers):\n",
    "    for number in numbers:\n",
    "        yield number * number\n",
    "\n",
    "# Test\n",
    "# numbers = evenumbers(10)\n",
    "numbers = squares(evenumbers(10))\n",
    "for num in numbers:\n",
    "    print(num)"
   ]
  },
  {
   "cell_type": "code",
   "execution_count": 14,
   "id": "52e33009",
   "metadata": {},
   "outputs": [
    {
     "name": "stdout",
     "output_type": "stream",
     "text": [
      "done\n",
      "Time taken: 2.0051379203796387 seconds \n"
     ]
    }
   ],
   "source": [
    "## 6: Simple Decorator\n",
    "import time\n",
    "\n",
    "def time_it(func):\n",
    "    def wrapper(*args, **kwargs):\n",
    "        start = time.time()\n",
    "        result = func(*args, **kwargs)\n",
    "        end = time.time()\n",
    "        print(f\"Time taken: {end - start} seconds \")\n",
    "        return result\n",
    "    wrapper()\n",
    "\n",
    "\n",
    "@time_it\n",
    "def simple_fun():\n",
    "    time.sleep(2)\n",
    "    print(\"done\")"
   ]
  },
  {
   "cell_type": "code",
   "execution_count": 19,
   "id": "ab5c29f9",
   "metadata": {},
   "outputs": [
    {
     "name": "stdout",
     "output_type": "stream",
     "text": [
      "Execution 1:\n",
      "Hello, Alice!\n",
      "Execution 2:\n",
      "Hello, Alice!\n",
      "Execution 3:\n",
      "Hello, Alice!\n"
     ]
    }
   ],
   "source": [
    "## 7: Decorator with Arguments\n",
    "## Write a decorator named `repeat` that takes an argument `n` and repeats the execution of the decorated function `n` times. Apply this decorator to a function that prints a message.\n",
    "\n",
    "def repeat(n):\n",
    "    \"\"\"Decorator that repeats the execution of a function n times.\n",
    "    \n",
    "    Args:\n",
    "        n (int): Number of times to repeat the function execution.\n",
    "    \"\"\"\n",
    "    def decorator(func):\n",
    "        def wrapper(*args, **kwargs):\n",
    "            for i in range(n):\n",
    "                print(f\"Execution {i + 1}:\")\n",
    "                result = func(*args, **kwargs)\n",
    "            return result\n",
    "        return wrapper\n",
    "    return decorator\n",
    "\n",
    "# Apply the decorator to a function that prints a message\n",
    "@repeat(3)\n",
    "def greet(name=\"World\"):\n",
    "    print(f\"Hello, {name}!\")\n",
    "\n",
    "# Test the decorator\n",
    "greet(\"Alice\")\n",
    "    "
   ]
  },
  {
   "cell_type": "markdown",
   "id": "d2bc9e3f",
   "metadata": {},
   "source": [
    "### Assignment 8: Nested Decorators\n",
    "\n",
    "Write two decorators: `uppercase` that converts the result of a function to uppercase, and `exclaim` that adds an exclamation mark to the result of a function. Apply both decorators to a function that returns a greeting message."
   ]
  },
  {
   "cell_type": "code",
   "execution_count": 21,
   "id": "cec5f722",
   "metadata": {},
   "outputs": [
    {
     "name": "stdout",
     "output_type": "stream",
     "text": [
      "WELCOME SATYA!\n"
     ]
    }
   ],
   "source": [
    "def uppercase(fun):\n",
    "    def wrapper(*args, **kwargs):\n",
    "        result = fun(*args, **kwargs)\n",
    "        return result.upper()\n",
    "    return wrapper\n",
    "\n",
    "def exclaim(fun):\n",
    "    def wrapper(*args, **kwargs):\n",
    "        result = fun(*args, **kwargs)\n",
    "        return result + \"!\"\n",
    "    return wrapper\n",
    "\n",
    "@exclaim\n",
    "@uppercase\n",
    "def greet(name):\n",
    "    return \"welcome \"+ name\n",
    "\n",
    "print(greet(\"satya\"))"
   ]
  },
  {
   "cell_type": "markdown",
   "id": "0663d2d1",
   "metadata": {},
   "source": [
    "### Assignment 9: Class Decorator\n",
    "\n",
    "Create a class decorator named `singleton` that ensures a class has only one instance. Apply this decorator to a class named `DatabaseConnection` and test it."
   ]
  },
  {
   "cell_type": "code",
   "execution_count": 23,
   "id": "b9c23239",
   "metadata": {},
   "outputs": [
    {
     "name": "stdout",
     "output_type": "stream",
     "text": [
      "True\n"
     ]
    }
   ],
   "source": [
    "def singleton(fun):\n",
    "    def wrapper(*args, **kwargs):\n",
    "        if not hasattr(fun, 'instance'):\n",
    "            fun.instance = fun(*args, **kwargs)\n",
    "            return fun.instance\n",
    "        else:\n",
    "            return fun.instance\n",
    "    return wrapper\n",
    "\n",
    "@singleton\n",
    "class DatabaseConnection:\n",
    "    def __init__(self, host, port):\n",
    "        self.host = host\n",
    "        self.port = port\n",
    "\n",
    "db1 = DatabaseConnection(\"localhost\", 5432)\n",
    "db2 = DatabaseConnection(\"localhost\", 5433)\n",
    "\n",
    "print(db1 is db2)\n",
    "\n",
    "### Assignment 10: Property Decorator\n",
    "\n"
   ]
  },
  {
   "cell_type": "markdown",
   "id": "4dacc172",
   "metadata": {},
   "source": [
    "### Assignment 10: Iterator Protocol with Decorators\n",
    "\n",
    "Create a custom iterator class named `ReverseString` that iterates over a string in reverse. Write a decorator named `uppercase` that converts the string to uppercase before reversing it. Apply the decorator to the `ReverseString` class."
   ]
  },
  {
   "cell_type": "markdown",
   "id": "c81e1b1d",
   "metadata": {},
   "source": [
    "Assignment 11"
   ]
  },
  {
   "cell_type": "code",
   "execution_count": 1,
   "id": "a2c07c88",
   "metadata": {},
   "outputs": [
    {
     "name": "stdout",
     "output_type": "stream",
     "text": [
      "1\n",
      "2\n",
      "3\n",
      "4\n",
      "5\n",
      "6\n",
      "7\n",
      "8\n",
      "9\n",
      "10\n"
     ]
    }
   ],
   "source": [
    "def counter(start):\n",
    "    current  = start\n",
    "    while True:\n",
    "        yield current\n",
    "        current += 1\n",
    "        \n",
    "cnt = counter(1)\n",
    "for _ in range(10):\n",
    "    print(next(cnt))\n"
   ]
  },
  {
   "cell_type": "code",
   "execution_count": null,
   "id": "5447e8e4",
   "metadata": {},
   "outputs": [],
   "source": [
    "### Infinite Iterator"
   ]
  },
  {
   "cell_type": "code",
   "execution_count": 5,
   "id": "b2468f54",
   "metadata": {},
   "outputs": [
    {
     "name": "stdout",
     "output_type": "stream",
     "text": [
      "1\n",
      "2\n",
      "3\n",
      "4\n",
      "5\n",
      "6\n",
      "7\n",
      "8\n",
      "9\n",
      "10\n"
     ]
    }
   ],
   "source": [
    "class InfiniteIterator:\n",
    "    def __init__ (self, start=0):\n",
    "        self.current = start\n",
    "    \n",
    "    def __iter__(self):\n",
    "        return self\n",
    "    \n",
    "    def __next__(self):\n",
    "        value = self.current\n",
    "        self.current +=1\n",
    "        return value\n",
    "\n",
    "iter = InfiniteIterator(1)\n",
    "for _ in range(10):\n",
    "    print(next(iter))"
   ]
  },
  {
   "cell_type": "code",
   "execution_count": 7,
   "id": "614896fd",
   "metadata": {},
   "outputs": [
    {
     "name": "stdout",
     "output_type": "stream",
     "text": [
      "-2\n",
      "-4\n",
      "-6\n",
      "-8\n",
      "-10\n",
      "-12\n",
      "-14\n",
      "-16\n",
      "-18\n",
      "-20\n"
     ]
    }
   ],
   "source": [
    "def integers():\n",
    "    for i in range(1, 11):\n",
    "        yield i\n",
    "\n",
    "def doubles(numbers):\n",
    "    for number in numbers:\n",
    "        yield number * 2\n",
    "        \n",
    "def negatives(numbers ):\n",
    "    for number in numbers:\n",
    "        yield -number\n",
    "\n",
    "nums = negatives(doubles(integers()))\n",
    "for n in nums:\n",
    "    print(n)"
   ]
  }
 ],
 "metadata": {
  "kernelspec": {
   "display_name": "Python 3",
   "language": "python",
   "name": "python3"
  },
  "language_info": {
   "codemirror_mode": {
    "name": "ipython",
    "version": 3
   },
   "file_extension": ".py",
   "mimetype": "text/x-python",
   "name": "python",
   "nbconvert_exporter": "python",
   "pygments_lexer": "ipython3",
   "version": "3.10.15"
  }
 },
 "nbformat": 4,
 "nbformat_minor": 5
}
